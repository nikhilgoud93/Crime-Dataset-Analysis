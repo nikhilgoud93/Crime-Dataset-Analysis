{
 "cells": [
  {
   "cell_type": "markdown",
   "metadata": {},
   "source": [
    "# Exploratary Data Analysis"
   ]
  },
  {
   "cell_type": "code",
   "execution_count": 1,
   "metadata": {},
   "outputs": [],
   "source": [
    "import pandas as pd\n",
    "import numpy as np\n",
    "import matplotlib.pyplot as plt\n",
    "import seaborn as sns\n",
    "import warnings\n",
    "warnings.filterwarnings('ignore')"
   ]
  },
  {
   "cell_type": "code",
   "execution_count": 2,
   "metadata": {},
   "outputs": [],
   "source": [
    "df=pd.read_csv('india_crime.csv')"
   ]
  },
  {
   "cell_type": "code",
   "execution_count": 3,
   "metadata": {},
   "outputs": [
    {
     "data": {
      "text/plain": [
       "(2449, 8)"
      ]
     },
     "execution_count": 3,
     "metadata": {},
     "output_type": "execute_result"
    }
   ],
   "source": [
    "df.shape"
   ]
  },
  {
   "cell_type": "code",
   "execution_count": 4,
   "metadata": {},
   "outputs": [
    {
     "data": {
      "text/plain": [
       "Index(['Area_Name', 'Year', 'Group_Name', 'Sub_Group_Name',\n",
       "       'Cases_Property_Recovered', 'Cases_Property_Stolen',\n",
       "       'Value_of_Property_Recovered', 'Value_of_Property_Stolen'],\n",
       "      dtype='object')"
      ]
     },
     "execution_count": 4,
     "metadata": {},
     "output_type": "execute_result"
    }
   ],
   "source": [
    "df.columns"
   ]
  },
  {
   "cell_type": "code",
   "execution_count": 5,
   "metadata": {},
   "outputs": [
    {
     "data": {
      "text/plain": [
       "Area_Name                      object\n",
       "Year                            int64\n",
       "Group_Name                     object\n",
       "Sub_Group_Name                 object\n",
       "Cases_Property_Recovered        int64\n",
       "Cases_Property_Stolen           int64\n",
       "Value_of_Property_Recovered     int64\n",
       "Value_of_Property_Stolen        int64\n",
       "dtype: object"
      ]
     },
     "execution_count": 5,
     "metadata": {},
     "output_type": "execute_result"
    }
   ],
   "source": [
    "df.dtypes"
   ]
  },
  {
   "cell_type": "code",
   "execution_count": 6,
   "metadata": {},
   "outputs": [
    {
     "data": {
      "text/html": [
       "<div>\n",
       "<style scoped>\n",
       "    .dataframe tbody tr th:only-of-type {\n",
       "        vertical-align: middle;\n",
       "    }\n",
       "\n",
       "    .dataframe tbody tr th {\n",
       "        vertical-align: top;\n",
       "    }\n",
       "\n",
       "    .dataframe thead th {\n",
       "        text-align: right;\n",
       "    }\n",
       "</style>\n",
       "<table border=\"1\" class=\"dataframe\">\n",
       "  <thead>\n",
       "    <tr style=\"text-align: right;\">\n",
       "      <th></th>\n",
       "      <th>Area_Name</th>\n",
       "      <th>Year</th>\n",
       "      <th>Group_Name</th>\n",
       "      <th>Sub_Group_Name</th>\n",
       "      <th>Cases_Property_Recovered</th>\n",
       "      <th>Cases_Property_Stolen</th>\n",
       "      <th>Value_of_Property_Recovered</th>\n",
       "      <th>Value_of_Property_Stolen</th>\n",
       "    </tr>\n",
       "  </thead>\n",
       "  <tbody>\n",
       "    <tr>\n",
       "      <th>0</th>\n",
       "      <td>Andaman &amp; Nicobar Islands</td>\n",
       "      <td>2001</td>\n",
       "      <td>Burglary - Property</td>\n",
       "      <td>3. Burglary</td>\n",
       "      <td>27</td>\n",
       "      <td>64</td>\n",
       "      <td>755858</td>\n",
       "      <td>1321961</td>\n",
       "    </tr>\n",
       "    <tr>\n",
       "      <th>1</th>\n",
       "      <td>Andhra Pradesh</td>\n",
       "      <td>2001</td>\n",
       "      <td>Burglary - Property</td>\n",
       "      <td>3. Burglary</td>\n",
       "      <td>3321</td>\n",
       "      <td>7134</td>\n",
       "      <td>51483437</td>\n",
       "      <td>147019348</td>\n",
       "    </tr>\n",
       "    <tr>\n",
       "      <th>2</th>\n",
       "      <td>Arunachal Pradesh</td>\n",
       "      <td>2001</td>\n",
       "      <td>Burglary - Property</td>\n",
       "      <td>3. Burglary</td>\n",
       "      <td>66</td>\n",
       "      <td>248</td>\n",
       "      <td>825115</td>\n",
       "      <td>4931904</td>\n",
       "    </tr>\n",
       "    <tr>\n",
       "      <th>3</th>\n",
       "      <td>Assam</td>\n",
       "      <td>2001</td>\n",
       "      <td>Burglary - Property</td>\n",
       "      <td>3. Burglary</td>\n",
       "      <td>539</td>\n",
       "      <td>2423</td>\n",
       "      <td>3722850</td>\n",
       "      <td>21466955</td>\n",
       "    </tr>\n",
       "    <tr>\n",
       "      <th>4</th>\n",
       "      <td>Bihar</td>\n",
       "      <td>2001</td>\n",
       "      <td>Burglary - Property</td>\n",
       "      <td>3. Burglary</td>\n",
       "      <td>367</td>\n",
       "      <td>3231</td>\n",
       "      <td>2327135</td>\n",
       "      <td>17023937</td>\n",
       "    </tr>\n",
       "  </tbody>\n",
       "</table>\n",
       "</div>"
      ],
      "text/plain": [
       "                   Area_Name  Year           Group_Name Sub_Group_Name  \\\n",
       "0  Andaman & Nicobar Islands  2001  Burglary - Property    3. Burglary   \n",
       "1             Andhra Pradesh  2001  Burglary - Property    3. Burglary   \n",
       "2          Arunachal Pradesh  2001  Burglary - Property    3. Burglary   \n",
       "3                      Assam  2001  Burglary - Property    3. Burglary   \n",
       "4                      Bihar  2001  Burglary - Property    3. Burglary   \n",
       "\n",
       "   Cases_Property_Recovered  Cases_Property_Stolen  \\\n",
       "0                        27                     64   \n",
       "1                      3321                   7134   \n",
       "2                        66                    248   \n",
       "3                       539                   2423   \n",
       "4                       367                   3231   \n",
       "\n",
       "   Value_of_Property_Recovered  Value_of_Property_Stolen  \n",
       "0                       755858                   1321961  \n",
       "1                     51483437                 147019348  \n",
       "2                       825115                   4931904  \n",
       "3                      3722850                  21466955  \n",
       "4                      2327135                  17023937  "
      ]
     },
     "execution_count": 6,
     "metadata": {},
     "output_type": "execute_result"
    }
   ],
   "source": [
    "df.head()"
   ]
  },
  {
   "cell_type": "code",
   "execution_count": 7,
   "metadata": {},
   "outputs": [
    {
     "name": "stdout",
     "output_type": "stream",
     "text": [
      "<class 'pandas.core.frame.DataFrame'>\n",
      "RangeIndex: 2449 entries, 0 to 2448\n",
      "Data columns (total 8 columns):\n",
      " #   Column                       Non-Null Count  Dtype \n",
      "---  ------                       --------------  ----- \n",
      " 0   Area_Name                    2449 non-null   object\n",
      " 1   Year                         2449 non-null   int64 \n",
      " 2   Group_Name                   2449 non-null   object\n",
      " 3   Sub_Group_Name               2449 non-null   object\n",
      " 4   Cases_Property_Recovered     2449 non-null   int64 \n",
      " 5   Cases_Property_Stolen        2449 non-null   int64 \n",
      " 6   Value_of_Property_Recovered  2449 non-null   int64 \n",
      " 7   Value_of_Property_Stolen     2449 non-null   int64 \n",
      "dtypes: int64(5), object(3)\n",
      "memory usage: 153.2+ KB\n"
     ]
    }
   ],
   "source": [
    "df.info()"
   ]
  },
  {
   "cell_type": "code",
   "execution_count": 8,
   "metadata": {},
   "outputs": [
    {
     "data": {
      "text/html": [
       "<div>\n",
       "<style scoped>\n",
       "    .dataframe tbody tr th:only-of-type {\n",
       "        vertical-align: middle;\n",
       "    }\n",
       "\n",
       "    .dataframe tbody tr th {\n",
       "        vertical-align: top;\n",
       "    }\n",
       "\n",
       "    .dataframe thead th {\n",
       "        text-align: right;\n",
       "    }\n",
       "</style>\n",
       "<table border=\"1\" class=\"dataframe\">\n",
       "  <thead>\n",
       "    <tr style=\"text-align: right;\">\n",
       "      <th></th>\n",
       "      <th>Year</th>\n",
       "      <th>Cases_Property_Recovered</th>\n",
       "      <th>Cases_Property_Stolen</th>\n",
       "      <th>Value_of_Property_Recovered</th>\n",
       "      <th>Value_of_Property_Stolen</th>\n",
       "    </tr>\n",
       "  </thead>\n",
       "  <tbody>\n",
       "    <tr>\n",
       "      <th>count</th>\n",
       "      <td>2449.000000</td>\n",
       "      <td>2449.000000</td>\n",
       "      <td>2449.000000</td>\n",
       "      <td>2.449000e+03</td>\n",
       "      <td>2.449000e+03</td>\n",
       "    </tr>\n",
       "    <tr>\n",
       "      <th>mean</th>\n",
       "      <td>2005.499388</td>\n",
       "      <td>1232.892201</td>\n",
       "      <td>3419.420988</td>\n",
       "      <td>5.859924e+07</td>\n",
       "      <td>2.465431e+08</td>\n",
       "    </tr>\n",
       "    <tr>\n",
       "      <th>std</th>\n",
       "      <td>2.873294</td>\n",
       "      <td>3079.573907</td>\n",
       "      <td>8136.256820</td>\n",
       "      <td>2.494403e+08</td>\n",
       "      <td>9.670035e+08</td>\n",
       "    </tr>\n",
       "    <tr>\n",
       "      <th>min</th>\n",
       "      <td>2001.000000</td>\n",
       "      <td>0.000000</td>\n",
       "      <td>0.000000</td>\n",
       "      <td>0.000000e+00</td>\n",
       "      <td>0.000000e+00</td>\n",
       "    </tr>\n",
       "    <tr>\n",
       "      <th>25%</th>\n",
       "      <td>2003.000000</td>\n",
       "      <td>13.000000</td>\n",
       "      <td>45.000000</td>\n",
       "      <td>6.845700e+05</td>\n",
       "      <td>3.649018e+06</td>\n",
       "    </tr>\n",
       "    <tr>\n",
       "      <th>50%</th>\n",
       "      <td>2005.000000</td>\n",
       "      <td>113.000000</td>\n",
       "      <td>358.000000</td>\n",
       "      <td>5.851830e+06</td>\n",
       "      <td>2.701800e+07</td>\n",
       "    </tr>\n",
       "    <tr>\n",
       "      <th>75%</th>\n",
       "      <td>2008.000000</td>\n",
       "      <td>722.000000</td>\n",
       "      <td>1875.000000</td>\n",
       "      <td>3.406395e+07</td>\n",
       "      <td>1.214580e+08</td>\n",
       "    </tr>\n",
       "    <tr>\n",
       "      <th>max</th>\n",
       "      <td>2010.000000</td>\n",
       "      <td>27960.000000</td>\n",
       "      <td>80663.000000</td>\n",
       "      <td>7.470011e+09</td>\n",
       "      <td>2.377625e+10</td>\n",
       "    </tr>\n",
       "  </tbody>\n",
       "</table>\n",
       "</div>"
      ],
      "text/plain": [
       "              Year  Cases_Property_Recovered  Cases_Property_Stolen  \\\n",
       "count  2449.000000               2449.000000            2449.000000   \n",
       "mean   2005.499388               1232.892201            3419.420988   \n",
       "std       2.873294               3079.573907            8136.256820   \n",
       "min    2001.000000                  0.000000               0.000000   \n",
       "25%    2003.000000                 13.000000              45.000000   \n",
       "50%    2005.000000                113.000000             358.000000   \n",
       "75%    2008.000000                722.000000            1875.000000   \n",
       "max    2010.000000              27960.000000           80663.000000   \n",
       "\n",
       "       Value_of_Property_Recovered  Value_of_Property_Stolen  \n",
       "count                 2.449000e+03              2.449000e+03  \n",
       "mean                  5.859924e+07              2.465431e+08  \n",
       "std                   2.494403e+08              9.670035e+08  \n",
       "min                   0.000000e+00              0.000000e+00  \n",
       "25%                   6.845700e+05              3.649018e+06  \n",
       "50%                   5.851830e+06              2.701800e+07  \n",
       "75%                   3.406395e+07              1.214580e+08  \n",
       "max                   7.470011e+09              2.377625e+10  "
      ]
     },
     "execution_count": 8,
     "metadata": {},
     "output_type": "execute_result"
    }
   ],
   "source": [
    "df.describe()"
   ]
  },
  {
   "cell_type": "code",
   "execution_count": 9,
   "metadata": {},
   "outputs": [
    {
     "data": {
      "text/plain": [
       "array(['Burglary - Property', 'Criminal Breach of Trust - Property',\n",
       "       'Dacoity -Property', 'Other heads of Property',\n",
       "       'Robbery - Property', 'Theft - Property', 'Total Property'],\n",
       "      dtype=object)"
      ]
     },
     "execution_count": 9,
     "metadata": {},
     "output_type": "execute_result"
    }
   ],
   "source": [
    "df['Group_Name'].unique()"
   ]
  },
  {
   "cell_type": "code",
   "execution_count": 10,
   "metadata": {},
   "outputs": [
    {
     "data": {
      "text/plain": [
       "array(['3. Burglary', '5. Criminal Breach of Trust', '1. Dacoity',\n",
       "       '6. Other Property', '2. Robbery', '4. Theft',\n",
       "       '7. Total Property Stolen & Recovered'], dtype=object)"
      ]
     },
     "execution_count": 10,
     "metadata": {},
     "output_type": "execute_result"
    }
   ],
   "source": [
    "df['Sub_Group_Name'].unique()"
   ]
  },
  {
   "cell_type": "code",
   "execution_count": 11,
   "metadata": {},
   "outputs": [
    {
     "data": {
      "text/plain": [
       "(2449, 8)"
      ]
     },
     "execution_count": 11,
     "metadata": {},
     "output_type": "execute_result"
    }
   ],
   "source": [
    "df.shape"
   ]
  },
  {
   "cell_type": "code",
   "execution_count": 12,
   "metadata": {},
   "outputs": [
    {
     "data": {
      "text/plain": [
       "array([2001, 2002, 2003, 2004, 2005, 2006, 2007, 2008, 2009, 2010],\n",
       "      dtype=int64)"
      ]
     },
     "execution_count": 12,
     "metadata": {},
     "output_type": "execute_result"
    }
   ],
   "source": [
    "df['Year'].unique()"
   ]
  },
  {
   "cell_type": "code",
   "execution_count": 13,
   "metadata": {},
   "outputs": [],
   "source": [
    "areawise=df.groupby(['Area_Name']).agg({'Cases_Property_Recovered':'sum','Cases_Property_Stolen':'sum','Value_of_Property_Recovered':'sum',\n",
    "                                               'Value_of_Property_Stolen':'sum'})"
   ]
  },
  {
   "cell_type": "code",
   "execution_count": 14,
   "metadata": {},
   "outputs": [
    {
     "data": {
      "text/html": [
       "<div>\n",
       "<style scoped>\n",
       "    .dataframe tbody tr th:only-of-type {\n",
       "        vertical-align: middle;\n",
       "    }\n",
       "\n",
       "    .dataframe tbody tr th {\n",
       "        vertical-align: top;\n",
       "    }\n",
       "\n",
       "    .dataframe thead th {\n",
       "        text-align: right;\n",
       "    }\n",
       "</style>\n",
       "<table border=\"1\" class=\"dataframe\">\n",
       "  <thead>\n",
       "    <tr style=\"text-align: right;\">\n",
       "      <th></th>\n",
       "      <th>Cases_Property_Recovered</th>\n",
       "      <th>Cases_Property_Stolen</th>\n",
       "      <th>Value_of_Property_Recovered</th>\n",
       "      <th>Value_of_Property_Stolen</th>\n",
       "    </tr>\n",
       "    <tr>\n",
       "      <th>Area_Name</th>\n",
       "      <th></th>\n",
       "      <th></th>\n",
       "      <th></th>\n",
       "      <th></th>\n",
       "    </tr>\n",
       "  </thead>\n",
       "  <tbody>\n",
       "    <tr>\n",
       "      <th>Andaman &amp; Nicobar Islands</th>\n",
       "      <td>1516</td>\n",
       "      <td>3662</td>\n",
       "      <td>53629194</td>\n",
       "      <td>646746834</td>\n",
       "    </tr>\n",
       "    <tr>\n",
       "      <th>Andhra Pradesh</th>\n",
       "      <td>332510</td>\n",
       "      <td>642822</td>\n",
       "      <td>8320971694</td>\n",
       "      <td>18762833176</td>\n",
       "    </tr>\n",
       "    <tr>\n",
       "      <th>Arunachal Pradesh</th>\n",
       "      <td>6048</td>\n",
       "      <td>16632</td>\n",
       "      <td>646754238</td>\n",
       "      <td>1895885402</td>\n",
       "    </tr>\n",
       "    <tr>\n",
       "      <th>Assam</th>\n",
       "      <td>54784</td>\n",
       "      <td>245560</td>\n",
       "      <td>1521007674</td>\n",
       "      <td>5814831574</td>\n",
       "    </tr>\n",
       "    <tr>\n",
       "      <th>Bihar</th>\n",
       "      <td>63876</td>\n",
       "      <td>411840</td>\n",
       "      <td>1098784766</td>\n",
       "      <td>7549162134</td>\n",
       "    </tr>\n",
       "    <tr>\n",
       "      <th>Chandigarh</th>\n",
       "      <td>15188</td>\n",
       "      <td>39720</td>\n",
       "      <td>625548682</td>\n",
       "      <td>1674993984</td>\n",
       "    </tr>\n",
       "    <tr>\n",
       "      <th>Chhattisgarh</th>\n",
       "      <td>68912</td>\n",
       "      <td>199712</td>\n",
       "      <td>1932428432</td>\n",
       "      <td>5770126842</td>\n",
       "    </tr>\n",
       "    <tr>\n",
       "      <th>Dadra &amp; Nagar Haveli</th>\n",
       "      <td>1170</td>\n",
       "      <td>2642</td>\n",
       "      <td>225144198</td>\n",
       "      <td>2007055568</td>\n",
       "    </tr>\n",
       "    <tr>\n",
       "      <th>Daman &amp; Diu</th>\n",
       "      <td>534</td>\n",
       "      <td>2056</td>\n",
       "      <td>81535334</td>\n",
       "      <td>375254250</td>\n",
       "    </tr>\n",
       "    <tr>\n",
       "      <th>Delhi</th>\n",
       "      <td>157858</td>\n",
       "      <td>490694</td>\n",
       "      <td>2777898238</td>\n",
       "      <td>60706985834</td>\n",
       "    </tr>\n",
       "    <tr>\n",
       "      <th>Goa</th>\n",
       "      <td>5884</td>\n",
       "      <td>19788</td>\n",
       "      <td>322047336</td>\n",
       "      <td>4081613364</td>\n",
       "    </tr>\n",
       "    <tr>\n",
       "      <th>Gujarat</th>\n",
       "      <td>166644</td>\n",
       "      <td>534060</td>\n",
       "      <td>6902107076</td>\n",
       "      <td>66430799410</td>\n",
       "    </tr>\n",
       "    <tr>\n",
       "      <th>Haryana</th>\n",
       "      <td>133320</td>\n",
       "      <td>303336</td>\n",
       "      <td>9005055364</td>\n",
       "      <td>15282212218</td>\n",
       "    </tr>\n",
       "    <tr>\n",
       "      <th>Himachal Pradesh</th>\n",
       "      <td>9798</td>\n",
       "      <td>34000</td>\n",
       "      <td>708580140</td>\n",
       "      <td>2813012810</td>\n",
       "    </tr>\n",
       "    <tr>\n",
       "      <th>Jammu &amp; Kashmir</th>\n",
       "      <td>22718</td>\n",
       "      <td>74906</td>\n",
       "      <td>1190983796</td>\n",
       "      <td>2994343940</td>\n",
       "    </tr>\n",
       "    <tr>\n",
       "      <th>Jharkhand</th>\n",
       "      <td>35368</td>\n",
       "      <td>176868</td>\n",
       "      <td>688336780</td>\n",
       "      <td>4656050214</td>\n",
       "    </tr>\n",
       "    <tr>\n",
       "      <th>Karnataka</th>\n",
       "      <td>160806</td>\n",
       "      <td>494968</td>\n",
       "      <td>9012218484</td>\n",
       "      <td>29150457754</td>\n",
       "    </tr>\n",
       "    <tr>\n",
       "      <th>Kerala</th>\n",
       "      <td>73066</td>\n",
       "      <td>221652</td>\n",
       "      <td>3070699020</td>\n",
       "      <td>27663292028</td>\n",
       "    </tr>\n",
       "    <tr>\n",
       "      <th>Lakshadweep</th>\n",
       "      <td>101</td>\n",
       "      <td>342</td>\n",
       "      <td>1591327</td>\n",
       "      <td>9863129</td>\n",
       "    </tr>\n",
       "    <tr>\n",
       "      <th>Madhya Pradesh</th>\n",
       "      <td>254106</td>\n",
       "      <td>733524</td>\n",
       "      <td>20338284748</td>\n",
       "      <td>31059072132</td>\n",
       "    </tr>\n",
       "  </tbody>\n",
       "</table>\n",
       "</div>"
      ],
      "text/plain": [
       "                           Cases_Property_Recovered  Cases_Property_Stolen  \\\n",
       "Area_Name                                                                    \n",
       "Andaman & Nicobar Islands                      1516                   3662   \n",
       "Andhra Pradesh                               332510                 642822   \n",
       "Arunachal Pradesh                              6048                  16632   \n",
       "Assam                                         54784                 245560   \n",
       "Bihar                                         63876                 411840   \n",
       "Chandigarh                                    15188                  39720   \n",
       "Chhattisgarh                                  68912                 199712   \n",
       "Dadra & Nagar Haveli                           1170                   2642   \n",
       "Daman & Diu                                     534                   2056   \n",
       "Delhi                                        157858                 490694   \n",
       "Goa                                            5884                  19788   \n",
       "Gujarat                                      166644                 534060   \n",
       "Haryana                                      133320                 303336   \n",
       "Himachal Pradesh                               9798                  34000   \n",
       "Jammu & Kashmir                               22718                  74906   \n",
       "Jharkhand                                     35368                 176868   \n",
       "Karnataka                                    160806                 494968   \n",
       "Kerala                                        73066                 221652   \n",
       "Lakshadweep                                     101                    342   \n",
       "Madhya Pradesh                               254106                 733524   \n",
       "\n",
       "                           Value_of_Property_Recovered  \\\n",
       "Area_Name                                                \n",
       "Andaman & Nicobar Islands                     53629194   \n",
       "Andhra Pradesh                              8320971694   \n",
       "Arunachal Pradesh                            646754238   \n",
       "Assam                                       1521007674   \n",
       "Bihar                                       1098784766   \n",
       "Chandigarh                                   625548682   \n",
       "Chhattisgarh                                1932428432   \n",
       "Dadra & Nagar Haveli                         225144198   \n",
       "Daman & Diu                                   81535334   \n",
       "Delhi                                       2777898238   \n",
       "Goa                                          322047336   \n",
       "Gujarat                                     6902107076   \n",
       "Haryana                                     9005055364   \n",
       "Himachal Pradesh                             708580140   \n",
       "Jammu & Kashmir                             1190983796   \n",
       "Jharkhand                                    688336780   \n",
       "Karnataka                                   9012218484   \n",
       "Kerala                                      3070699020   \n",
       "Lakshadweep                                    1591327   \n",
       "Madhya Pradesh                             20338284748   \n",
       "\n",
       "                           Value_of_Property_Stolen  \n",
       "Area_Name                                            \n",
       "Andaman & Nicobar Islands                 646746834  \n",
       "Andhra Pradesh                          18762833176  \n",
       "Arunachal Pradesh                        1895885402  \n",
       "Assam                                    5814831574  \n",
       "Bihar                                    7549162134  \n",
       "Chandigarh                               1674993984  \n",
       "Chhattisgarh                             5770126842  \n",
       "Dadra & Nagar Haveli                     2007055568  \n",
       "Daman & Diu                               375254250  \n",
       "Delhi                                   60706985834  \n",
       "Goa                                      4081613364  \n",
       "Gujarat                                 66430799410  \n",
       "Haryana                                 15282212218  \n",
       "Himachal Pradesh                         2813012810  \n",
       "Jammu & Kashmir                          2994343940  \n",
       "Jharkhand                                4656050214  \n",
       "Karnataka                               29150457754  \n",
       "Kerala                                  27663292028  \n",
       "Lakshadweep                                 9863129  \n",
       "Madhya Pradesh                          31059072132  "
      ]
     },
     "execution_count": 14,
     "metadata": {},
     "output_type": "execute_result"
    }
   ],
   "source": [
    "areawise.head(20)"
   ]
  },
  {
   "cell_type": "code",
   "execution_count": 15,
   "metadata": {},
   "outputs": [],
   "source": [
    "groupwise=df.groupby('Group_Name').agg({'Cases_Property_Recovered':'sum','Cases_Property_Stolen':'sum','Value_of_Property_Recovered':'sum',\n",
    "                                               'Value_of_Property_Stolen':'sum'})"
   ]
  },
  {
   "cell_type": "code",
   "execution_count": 16,
   "metadata": {
    "scrolled": true
   },
   "outputs": [
    {
     "data": {
      "text/html": [
       "<div>\n",
       "<style scoped>\n",
       "    .dataframe tbody tr th:only-of-type {\n",
       "        vertical-align: middle;\n",
       "    }\n",
       "\n",
       "    .dataframe tbody tr th {\n",
       "        vertical-align: top;\n",
       "    }\n",
       "\n",
       "    .dataframe thead th {\n",
       "        text-align: right;\n",
       "    }\n",
       "</style>\n",
       "<table border=\"1\" class=\"dataframe\">\n",
       "  <thead>\n",
       "    <tr style=\"text-align: right;\">\n",
       "      <th></th>\n",
       "      <th>Cases_Property_Recovered</th>\n",
       "      <th>Cases_Property_Stolen</th>\n",
       "      <th>Value_of_Property_Recovered</th>\n",
       "      <th>Value_of_Property_Stolen</th>\n",
       "    </tr>\n",
       "    <tr>\n",
       "      <th>Group_Name</th>\n",
       "      <th></th>\n",
       "      <th></th>\n",
       "      <th></th>\n",
       "      <th></th>\n",
       "    </tr>\n",
       "  </thead>\n",
       "  <tbody>\n",
       "    <tr>\n",
       "      <th>Burglary - Property</th>\n",
       "      <td>283804</td>\n",
       "      <td>900772</td>\n",
       "      <td>9164296467</td>\n",
       "      <td>33789815938</td>\n",
       "    </tr>\n",
       "    <tr>\n",
       "      <th>Criminal Breach of Trust - Property</th>\n",
       "      <td>40151</td>\n",
       "      <td>103164</td>\n",
       "      <td>6610363959</td>\n",
       "      <td>59792902381</td>\n",
       "    </tr>\n",
       "    <tr>\n",
       "      <th>Dacoity -Property</th>\n",
       "      <td>20097</td>\n",
       "      <td>48178</td>\n",
       "      <td>10479315553</td>\n",
       "      <td>16758361312</td>\n",
       "    </tr>\n",
       "    <tr>\n",
       "      <th>Other heads of Property</th>\n",
       "      <td>88780</td>\n",
       "      <td>204914</td>\n",
       "      <td>7156268132</td>\n",
       "      <td>76661474892</td>\n",
       "    </tr>\n",
       "    <tr>\n",
       "      <th>Robbery - Property</th>\n",
       "      <td>91104</td>\n",
       "      <td>187125</td>\n",
       "      <td>4904269115</td>\n",
       "      <td>14468566168</td>\n",
       "    </tr>\n",
       "    <tr>\n",
       "      <th>Theft - Property</th>\n",
       "      <td>985742</td>\n",
       "      <td>2742941</td>\n",
       "      <td>33440290382</td>\n",
       "      <td>100421322551</td>\n",
       "    </tr>\n",
       "    <tr>\n",
       "      <th>Total Property</th>\n",
       "      <td>1509675</td>\n",
       "      <td>4187068</td>\n",
       "      <td>71754737011</td>\n",
       "      <td>301891594919</td>\n",
       "    </tr>\n",
       "  </tbody>\n",
       "</table>\n",
       "</div>"
      ],
      "text/plain": [
       "                                     Cases_Property_Recovered  \\\n",
       "Group_Name                                                      \n",
       "Burglary - Property                                    283804   \n",
       "Criminal Breach of Trust - Property                     40151   \n",
       "Dacoity -Property                                       20097   \n",
       "Other heads of Property                                 88780   \n",
       "Robbery - Property                                      91104   \n",
       "Theft - Property                                       985742   \n",
       "Total Property                                        1509675   \n",
       "\n",
       "                                     Cases_Property_Stolen  \\\n",
       "Group_Name                                                   \n",
       "Burglary - Property                                 900772   \n",
       "Criminal Breach of Trust - Property                 103164   \n",
       "Dacoity -Property                                    48178   \n",
       "Other heads of Property                             204914   \n",
       "Robbery - Property                                  187125   \n",
       "Theft - Property                                   2742941   \n",
       "Total Property                                     4187068   \n",
       "\n",
       "                                     Value_of_Property_Recovered  \\\n",
       "Group_Name                                                         \n",
       "Burglary - Property                                   9164296467   \n",
       "Criminal Breach of Trust - Property                   6610363959   \n",
       "Dacoity -Property                                    10479315553   \n",
       "Other heads of Property                               7156268132   \n",
       "Robbery - Property                                    4904269115   \n",
       "Theft - Property                                     33440290382   \n",
       "Total Property                                       71754737011   \n",
       "\n",
       "                                     Value_of_Property_Stolen  \n",
       "Group_Name                                                     \n",
       "Burglary - Property                               33789815938  \n",
       "Criminal Breach of Trust - Property               59792902381  \n",
       "Dacoity -Property                                 16758361312  \n",
       "Other heads of Property                           76661474892  \n",
       "Robbery - Property                                14468566168  \n",
       "Theft - Property                                 100421322551  \n",
       "Total Property                                   301891594919  "
      ]
     },
     "execution_count": 16,
     "metadata": {},
     "output_type": "execute_result"
    }
   ],
   "source": [
    "groupwise"
   ]
  },
  {
   "cell_type": "code",
   "execution_count": 17,
   "metadata": {},
   "outputs": [],
   "source": [
    "subgroupwise=df.groupby('Sub_Group_Name').agg({'Cases_Property_Recovered':'sum','Cases_Property_Stolen':'sum','Value_of_Property_Recovered':'sum',\n",
    "                                               'Value_of_Property_Stolen':'sum'})"
   ]
  },
  {
   "cell_type": "code",
   "execution_count": 18,
   "metadata": {},
   "outputs": [
    {
     "data": {
      "text/html": [
       "<div>\n",
       "<style scoped>\n",
       "    .dataframe tbody tr th:only-of-type {\n",
       "        vertical-align: middle;\n",
       "    }\n",
       "\n",
       "    .dataframe tbody tr th {\n",
       "        vertical-align: top;\n",
       "    }\n",
       "\n",
       "    .dataframe thead th {\n",
       "        text-align: right;\n",
       "    }\n",
       "</style>\n",
       "<table border=\"1\" class=\"dataframe\">\n",
       "  <thead>\n",
       "    <tr style=\"text-align: right;\">\n",
       "      <th></th>\n",
       "      <th>Cases_Property_Recovered</th>\n",
       "      <th>Cases_Property_Stolen</th>\n",
       "      <th>Value_of_Property_Recovered</th>\n",
       "      <th>Value_of_Property_Stolen</th>\n",
       "    </tr>\n",
       "    <tr>\n",
       "      <th>Sub_Group_Name</th>\n",
       "      <th></th>\n",
       "      <th></th>\n",
       "      <th></th>\n",
       "      <th></th>\n",
       "    </tr>\n",
       "  </thead>\n",
       "  <tbody>\n",
       "    <tr>\n",
       "      <th>1. Dacoity</th>\n",
       "      <td>20097</td>\n",
       "      <td>48178</td>\n",
       "      <td>10479315553</td>\n",
       "      <td>16758361312</td>\n",
       "    </tr>\n",
       "    <tr>\n",
       "      <th>2. Robbery</th>\n",
       "      <td>91104</td>\n",
       "      <td>187125</td>\n",
       "      <td>4904269115</td>\n",
       "      <td>14468566168</td>\n",
       "    </tr>\n",
       "    <tr>\n",
       "      <th>3. Burglary</th>\n",
       "      <td>283804</td>\n",
       "      <td>900772</td>\n",
       "      <td>9164296467</td>\n",
       "      <td>33789815938</td>\n",
       "    </tr>\n",
       "    <tr>\n",
       "      <th>4. Theft</th>\n",
       "      <td>985742</td>\n",
       "      <td>2742941</td>\n",
       "      <td>33440290382</td>\n",
       "      <td>100421322551</td>\n",
       "    </tr>\n",
       "    <tr>\n",
       "      <th>5. Criminal Breach of Trust</th>\n",
       "      <td>40151</td>\n",
       "      <td>103164</td>\n",
       "      <td>6610363959</td>\n",
       "      <td>59792902381</td>\n",
       "    </tr>\n",
       "    <tr>\n",
       "      <th>6. Other Property</th>\n",
       "      <td>88780</td>\n",
       "      <td>204914</td>\n",
       "      <td>7156268132</td>\n",
       "      <td>76661474892</td>\n",
       "    </tr>\n",
       "    <tr>\n",
       "      <th>7. Total Property Stolen &amp; Recovered</th>\n",
       "      <td>1509675</td>\n",
       "      <td>4187068</td>\n",
       "      <td>71754737011</td>\n",
       "      <td>301891594919</td>\n",
       "    </tr>\n",
       "  </tbody>\n",
       "</table>\n",
       "</div>"
      ],
      "text/plain": [
       "                                      Cases_Property_Recovered  \\\n",
       "Sub_Group_Name                                                   \n",
       "1. Dacoity                                               20097   \n",
       "2. Robbery                                               91104   \n",
       "3. Burglary                                             283804   \n",
       "4. Theft                                                985742   \n",
       "5. Criminal Breach of Trust                              40151   \n",
       "6. Other Property                                        88780   \n",
       "7. Total Property Stolen & Recovered                   1509675   \n",
       "\n",
       "                                      Cases_Property_Stolen  \\\n",
       "Sub_Group_Name                                                \n",
       "1. Dacoity                                            48178   \n",
       "2. Robbery                                           187125   \n",
       "3. Burglary                                          900772   \n",
       "4. Theft                                            2742941   \n",
       "5. Criminal Breach of Trust                          103164   \n",
       "6. Other Property                                    204914   \n",
       "7. Total Property Stolen & Recovered                4187068   \n",
       "\n",
       "                                      Value_of_Property_Recovered  \\\n",
       "Sub_Group_Name                                                      \n",
       "1. Dacoity                                            10479315553   \n",
       "2. Robbery                                             4904269115   \n",
       "3. Burglary                                            9164296467   \n",
       "4. Theft                                              33440290382   \n",
       "5. Criminal Breach of Trust                            6610363959   \n",
       "6. Other Property                                      7156268132   \n",
       "7. Total Property Stolen & Recovered                  71754737011   \n",
       "\n",
       "                                      Value_of_Property_Stolen  \n",
       "Sub_Group_Name                                                  \n",
       "1. Dacoity                                         16758361312  \n",
       "2. Robbery                                         14468566168  \n",
       "3. Burglary                                        33789815938  \n",
       "4. Theft                                          100421322551  \n",
       "5. Criminal Breach of Trust                        59792902381  \n",
       "6. Other Property                                  76661474892  \n",
       "7. Total Property Stolen & Recovered              301891594919  "
      ]
     },
     "execution_count": 18,
     "metadata": {},
     "output_type": "execute_result"
    }
   ],
   "source": [
    "subgroupwise"
   ]
  },
  {
   "cell_type": "code",
   "execution_count": 19,
   "metadata": {},
   "outputs": [],
   "source": [
    "df['Unknown_cases']=df['Cases_Property_Stolen']-df['Cases_Property_Recovered']"
   ]
  },
  {
   "cell_type": "code",
   "execution_count": 20,
   "metadata": {},
   "outputs": [
    {
     "data": {
      "text/plain": [
       "0      37\n",
       "1    3813\n",
       "2     182\n",
       "3    1884\n",
       "4    2864\n",
       "Name: Unknown_cases, dtype: int64"
      ]
     },
     "execution_count": 20,
     "metadata": {},
     "output_type": "execute_result"
    }
   ],
   "source": [
    "df['Unknown_cases'].head()"
   ]
  },
  {
   "cell_type": "code",
   "execution_count": 21,
   "metadata": {},
   "outputs": [],
   "source": [
    "df['Unrecovered_Property']=df['Value_of_Property_Stolen']-df['Value_of_Property_Recovered']"
   ]
  },
  {
   "cell_type": "code",
   "execution_count": 22,
   "metadata": {},
   "outputs": [
    {
     "data": {
      "text/plain": [
       "0           566103\n",
       "1         95535911\n",
       "2          4106789\n",
       "3         17744105\n",
       "4         14696802\n",
       "           ...    \n",
       "2444     657607386\n",
       "2445      27366644\n",
       "2446     865078642\n",
       "2447      76263155\n",
       "2448    3846926526\n",
       "Name: Unrecovered_Property, Length: 2449, dtype: int64"
      ]
     },
     "execution_count": 22,
     "metadata": {},
     "output_type": "execute_result"
    }
   ],
   "source": [
    "df['Unrecovered_Property']"
   ]
  },
  {
   "cell_type": "code",
   "execution_count": 23,
   "metadata": {},
   "outputs": [
    {
     "data": {
      "text/html": [
       "<div>\n",
       "<style scoped>\n",
       "    .dataframe tbody tr th:only-of-type {\n",
       "        vertical-align: middle;\n",
       "    }\n",
       "\n",
       "    .dataframe tbody tr th {\n",
       "        vertical-align: top;\n",
       "    }\n",
       "\n",
       "    .dataframe thead th {\n",
       "        text-align: right;\n",
       "    }\n",
       "</style>\n",
       "<table border=\"1\" class=\"dataframe\">\n",
       "  <thead>\n",
       "    <tr style=\"text-align: right;\">\n",
       "      <th></th>\n",
       "      <th>Area_Name</th>\n",
       "      <th>Year</th>\n",
       "      <th>Group_Name</th>\n",
       "      <th>Sub_Group_Name</th>\n",
       "      <th>Cases_Property_Recovered</th>\n",
       "      <th>Cases_Property_Stolen</th>\n",
       "      <th>Value_of_Property_Recovered</th>\n",
       "      <th>Value_of_Property_Stolen</th>\n",
       "      <th>Unknown_cases</th>\n",
       "      <th>Unrecovered_Property</th>\n",
       "    </tr>\n",
       "  </thead>\n",
       "  <tbody>\n",
       "    <tr>\n",
       "      <th>0</th>\n",
       "      <td>Andaman &amp; Nicobar Islands</td>\n",
       "      <td>2001</td>\n",
       "      <td>Burglary - Property</td>\n",
       "      <td>3. Burglary</td>\n",
       "      <td>27</td>\n",
       "      <td>64</td>\n",
       "      <td>755858</td>\n",
       "      <td>1321961</td>\n",
       "      <td>37</td>\n",
       "      <td>566103</td>\n",
       "    </tr>\n",
       "    <tr>\n",
       "      <th>1</th>\n",
       "      <td>Andhra Pradesh</td>\n",
       "      <td>2001</td>\n",
       "      <td>Burglary - Property</td>\n",
       "      <td>3. Burglary</td>\n",
       "      <td>3321</td>\n",
       "      <td>7134</td>\n",
       "      <td>51483437</td>\n",
       "      <td>147019348</td>\n",
       "      <td>3813</td>\n",
       "      <td>95535911</td>\n",
       "    </tr>\n",
       "    <tr>\n",
       "      <th>2</th>\n",
       "      <td>Arunachal Pradesh</td>\n",
       "      <td>2001</td>\n",
       "      <td>Burglary - Property</td>\n",
       "      <td>3. Burglary</td>\n",
       "      <td>66</td>\n",
       "      <td>248</td>\n",
       "      <td>825115</td>\n",
       "      <td>4931904</td>\n",
       "      <td>182</td>\n",
       "      <td>4106789</td>\n",
       "    </tr>\n",
       "    <tr>\n",
       "      <th>3</th>\n",
       "      <td>Assam</td>\n",
       "      <td>2001</td>\n",
       "      <td>Burglary - Property</td>\n",
       "      <td>3. Burglary</td>\n",
       "      <td>539</td>\n",
       "      <td>2423</td>\n",
       "      <td>3722850</td>\n",
       "      <td>21466955</td>\n",
       "      <td>1884</td>\n",
       "      <td>17744105</td>\n",
       "    </tr>\n",
       "    <tr>\n",
       "      <th>4</th>\n",
       "      <td>Bihar</td>\n",
       "      <td>2001</td>\n",
       "      <td>Burglary - Property</td>\n",
       "      <td>3. Burglary</td>\n",
       "      <td>367</td>\n",
       "      <td>3231</td>\n",
       "      <td>2327135</td>\n",
       "      <td>17023937</td>\n",
       "      <td>2864</td>\n",
       "      <td>14696802</td>\n",
       "    </tr>\n",
       "  </tbody>\n",
       "</table>\n",
       "</div>"
      ],
      "text/plain": [
       "                   Area_Name  Year           Group_Name Sub_Group_Name  \\\n",
       "0  Andaman & Nicobar Islands  2001  Burglary - Property    3. Burglary   \n",
       "1             Andhra Pradesh  2001  Burglary - Property    3. Burglary   \n",
       "2          Arunachal Pradesh  2001  Burglary - Property    3. Burglary   \n",
       "3                      Assam  2001  Burglary - Property    3. Burglary   \n",
       "4                      Bihar  2001  Burglary - Property    3. Burglary   \n",
       "\n",
       "   Cases_Property_Recovered  Cases_Property_Stolen  \\\n",
       "0                        27                     64   \n",
       "1                      3321                   7134   \n",
       "2                        66                    248   \n",
       "3                       539                   2423   \n",
       "4                       367                   3231   \n",
       "\n",
       "   Value_of_Property_Recovered  Value_of_Property_Stolen  Unknown_cases  \\\n",
       "0                       755858                   1321961             37   \n",
       "1                     51483437                 147019348           3813   \n",
       "2                       825115                   4931904            182   \n",
       "3                      3722850                  21466955           1884   \n",
       "4                      2327135                  17023937           2864   \n",
       "\n",
       "   Unrecovered_Property  \n",
       "0                566103  \n",
       "1              95535911  \n",
       "2               4106789  \n",
       "3              17744105  \n",
       "4              14696802  "
      ]
     },
     "execution_count": 23,
     "metadata": {},
     "output_type": "execute_result"
    }
   ],
   "source": [
    "df.head()"
   ]
  },
  {
   "cell_type": "code",
   "execution_count": 24,
   "metadata": {},
   "outputs": [
    {
     "data": {
      "text/plain": [
       "Index(['Area_Name', 'Year', 'Group_Name', 'Sub_Group_Name',\n",
       "       'Cases_Property_Recovered', 'Cases_Property_Stolen',\n",
       "       'Value_of_Property_Recovered', 'Value_of_Property_Stolen',\n",
       "       'Unknown_cases', 'Unrecovered_Property'],\n",
       "      dtype='object')"
      ]
     },
     "execution_count": 24,
     "metadata": {},
     "output_type": "execute_result"
    }
   ],
   "source": [
    "df.columns"
   ]
  },
  {
   "cell_type": "code",
   "execution_count": 25,
   "metadata": {},
   "outputs": [
    {
     "data": {
      "image/png": "[encoded data removed]",
      "text/plain": [
       "<Figure size 720x360 with 1 Axes>"
      ]
     },
     "metadata": {
      "needs_background": "light"
     },
     "output_type": "display_data"
    }
   ],
   "source": [
    "plt.figure(figsize=(10,5))\n",
    "sns.barplot(df['Unknown_cases'],df['Group_Name'],label='No.of unknown cases')\n",
    "plt.title('List of unknown cases in India')\n",
    "plt.legend()\n",
    "plt.show()"
   ]
  },
  {
   "cell_type": "code",
   "execution_count": 26,
   "metadata": {},
   "outputs": [
    {
     "data": {
      "image/png": "[encoded data removed]",
      "text/plain": [
       "<Figure size 720x360 with 1 Axes>"
      ]
     },
     "metadata": {
      "needs_background": "light"
     },
     "output_type": "display_data"
    }
   ],
   "source": [
    "plt.figure(figsize=(10,5))\n",
    "sns.barplot(df['Unknown_cases'],df['Sub_Group_Name'],label='No.of unknown cases')\n",
    "plt.title('List of unknown cases in India')\n",
    "plt.legend()\n",
    "plt.show()"
   ]
  },
  {
   "cell_type": "code",
   "execution_count": 27,
   "metadata": {},
   "outputs": [
    {
     "data": {
      "image/png": "[encoded data removed]",
      "text/plain": [
       "<Figure size 720x360 with 1 Axes>"
      ]
     },
     "metadata": {
      "needs_background": "light"
     },
     "output_type": "display_data"
    }
   ],
   "source": [
    "plt.figure(figsize=(10,5))\n",
    "sns.barplot(df['Unrecovered_Property'],df['Group_Name'],label='Value_not_recovered')\n",
    "plt.title('Value of unrecovered property')\n",
    "plt.legend()\n",
    "plt.show()"
   ]
  },
  {
   "cell_type": "code",
   "execution_count": 28,
   "metadata": {},
   "outputs": [
    {
     "data": {
      "image/png": "[encoded data removed]",
      "text/plain": [
       "<Figure size 720x1440 with 1 Axes>"
      ]
     },
     "metadata": {
      "needs_background": "light"
     },
     "output_type": "display_data"
    }
   ],
   "source": [
    "plt.figure(figsize=(10,20))\n",
    "sns.barplot(df['Unrecovered_Property'].sort_values(ascending=False),df['Area_Name'],label='Value_not_recovered')\n",
    "plt.title('Value of unrecovered property')\n",
    "plt.legend()\n",
    "plt.show()"
   ]
  },
  {
   "cell_type": "code",
   "execution_count": 29,
   "metadata": {},
   "outputs": [
    {
     "data": {
      "image/png": "[encoded data removed]",
      "text/plain": [
       "<Figure size 720x1152 with 1 Axes>"
      ]
     },
     "metadata": {
      "needs_background": "light"
     },
     "output_type": "display_data"
    }
   ],
   "source": [
    "plt.figure(figsize=(10,16))\n",
    "sns.barplot(df['Unknown_cases'].sort_values(ascending=True),df['Area_Name'],label='Unknown cases')\n",
    "plt.title('Unknown cases in the area_wise')\n",
    "plt.legend()\n",
    "plt.show()"
   ]
  },
  {
   "cell_type": "raw",
   "metadata": {},
   "source": [
    "## Conclusions\n",
    "1. Maharashtra is the top state in which there are higher number of unknown cases and Madhya Pradesh is in the second place.\n",
    "2. Maharashtra is top state which has not recovered the stolen property"
   ]
  },
  {
   "cell_type": "code",
   "execution_count": 30,
   "metadata": {},
   "outputs": [
    {
     "data": {
      "text/plain": [
       "Index(['Area_Name', 'Year', 'Group_Name', 'Sub_Group_Name',\n",
       "       'Cases_Property_Recovered', 'Cases_Property_Stolen',\n",
       "       'Value_of_Property_Recovered', 'Value_of_Property_Stolen',\n",
       "       'Unknown_cases', 'Unrecovered_Property'],\n",
       "      dtype='object')"
      ]
     },
     "execution_count": 30,
     "metadata": {},
     "output_type": "execute_result"
    }
   ],
   "source": [
    "df.columns"
   ]
  },
  {
   "cell_type": "code",
   "execution_count": 31,
   "metadata": {},
   "outputs": [
    {
     "data": {
      "image/png": "[encoded data removed]",
      "text/plain": [
       "<Figure size 720x1440 with 1 Axes>"
      ]
     },
     "metadata": {
      "needs_background": "light"
     },
     "output_type": "display_data"
    }
   ],
   "source": [
    "plt.figure(figsize=(10,20))\n",
    "sns.barplot(df['Cases_Property_Recovered'].sort_values(ascending=True),df['Area_Name'],label='Property Recovered cases')\n",
    "plt.title('Property recovered area_wise')\n",
    "plt.legend()\n",
    "plt.show()"
   ]
  },
  {
   "cell_type": "code",
   "execution_count": 32,
   "metadata": {},
   "outputs": [
    {
     "data": {
      "image/png": "[encoded data removed]",
      "text/plain": [
       "<Figure size 864x1224 with 1 Axes>"
      ]
     },
     "metadata": {
      "needs_background": "light"
     },
     "output_type": "display_data"
    }
   ],
   "source": [
    "plt.figure(figsize=(12,17))\n",
    "sns.barplot(df['Cases_Property_Stolen'].sort_values(ascending=True),df['Area_Name'],label='Property_stolen')\n",
    "plt.title('Property stolen area_wise')\n",
    "plt.legend()\n",
    "plt.show()"
   ]
  },
  {
   "cell_type": "code",
   "execution_count": 33,
   "metadata": {},
   "outputs": [
    {
     "data": {
      "text/plain": [
       "Index(['Area_Name', 'Year', 'Group_Name', 'Sub_Group_Name',\n",
       "       'Cases_Property_Recovered', 'Cases_Property_Stolen',\n",
       "       'Value_of_Property_Recovered', 'Value_of_Property_Stolen',\n",
       "       'Unknown_cases', 'Unrecovered_Property'],\n",
       "      dtype='object')"
      ]
     },
     "execution_count": 33,
     "metadata": {},
     "output_type": "execute_result"
    }
   ],
   "source": [
    "df.columns"
   ]
  },
  {
   "cell_type": "code",
   "execution_count": 34,
   "metadata": {},
   "outputs": [
    {
     "data": {
      "image/png": "[encoded data removed]",
      "text/plain": [
       "<Figure size 864x360 with 1 Axes>"
      ]
     },
     "metadata": {
      "needs_background": "light"
     },
     "output_type": "display_data"
    }
   ],
   "source": [
    "plt.figure(figsize=(12,5))\n",
    "sns.barplot(df['Year'],df['Cases_Property_Recovered'],label='Year wise')\n",
    "plt.title('Property recovered year_wise')\n",
    "plt.legend()\n",
    "plt.show()"
   ]
  },
  {
   "cell_type": "code",
   "execution_count": 35,
   "metadata": {},
   "outputs": [
    {
     "data": {
      "image/png": "[encoded data removed]",
      "text/plain": [
       "<Figure size 864x360 with 1 Axes>"
      ]
     },
     "metadata": {
      "needs_background": "light"
     },
     "output_type": "display_data"
    }
   ],
   "source": [
    "plt.figure(figsize=(12,5))\n",
    "sns.barplot(df['Year'],df['Cases_Property_Stolen'],label='Year wise')\n",
    "plt.title('Property stolen year_wise')\n",
    "plt.legend()\n",
    "plt.show()"
   ]
  },
  {
   "cell_type": "code",
   "execution_count": 36,
   "metadata": {},
   "outputs": [
    {
     "data": {
      "image/png": "[encoded data removed]",
      "text/plain": [
       "<Figure size 864x360 with 1 Axes>"
      ]
     },
     "metadata": {
      "needs_background": "light"
     },
     "output_type": "display_data"
    }
   ],
   "source": [
    "plt.figure(figsize=(12,5))\n",
    "sns.barplot(df['Year'],df['Value_of_Property_Recovered'],label='Value Recovered')\n",
    "plt.title('Value of property recovered year_wise')\n",
    "plt.legend()\n",
    "plt.show()"
   ]
  },
  {
   "cell_type": "code",
   "execution_count": 37,
   "metadata": {},
   "outputs": [
    {
     "data": {
      "image/png": "[encoded data removed]",
      "text/plain": [
       "<Figure size 864x360 with 1 Axes>"
      ]
     },
     "metadata": {
      "needs_background": "light"
     },
     "output_type": "display_data"
    }
   ],
   "source": [
    "plt.figure(figsize=(12,5))\n",
    "sns.barplot(df['Year'],df['Value_of_Property_Stolen'],label='Value Stolen year_wise')\n",
    "plt.title('Value of property stolen year_wise')\n",
    "plt.legend()\n",
    "plt.show()"
   ]
  },
  {
   "cell_type": "code",
   "execution_count": 38,
   "metadata": {},
   "outputs": [
    {
     "data": {
      "image/png": "[encoded data removed]",
      "text/plain": [
       "<Figure size 864x360 with 1 Axes>"
      ]
     },
     "metadata": {
      "needs_background": "light"
     },
     "output_type": "display_data"
    }
   ],
   "source": [
    "plt.figure(figsize=(12,5))\n",
    "sns.barplot(df['Year'],df['Unknown_cases'],label='Unknown cases year_wise')\n",
    "plt.title('Unknown cases year_wise')\n",
    "plt.legend()\n",
    "plt.show()"
   ]
  },
  {
   "cell_type": "code",
   "execution_count": 39,
   "metadata": {},
   "outputs": [
    {
     "data": {
      "image/png": "[encoded data removed]",
      "text/plain": [
       "<Figure size 864x360 with 1 Axes>"
      ]
     },
     "metadata": {
      "needs_background": "light"
     },
     "output_type": "display_data"
    }
   ],
   "source": [
    "plt.figure(figsize=(12,5))\n",
    "sns.barplot(df['Year'],df['Unrecovered_Property'],label='Unrecovered property year_wise')\n",
    "plt.title('Unrecovered property year_wise')\n",
    "plt.legend()\n",
    "plt.show()"
   ]
  },
  {
   "cell_type": "markdown",
   "metadata": {},
   "source": [
    "Conclusions:\n",
    "1. Maharashtra is the worst country in the crime\n",
    "2. Lakswadeep is the country which is the least\n",
    "3. Year 2010 the cases has been increased and the property recovered also increased\n",
    "4. Maharashtra ranks number in the crime_rate, unrecovered property and unknown cases"
   ]
  },
  {
   "cell_type": "code",
   "execution_count": 40,
   "metadata": {},
   "outputs": [
    {
     "data": {
      "text/html": [
       "<div>\n",
       "<style scoped>\n",
       "    .dataframe tbody tr th:only-of-type {\n",
       "        vertical-align: middle;\n",
       "    }\n",
       "\n",
       "    .dataframe tbody tr th {\n",
       "        vertical-align: top;\n",
       "    }\n",
       "\n",
       "    .dataframe thead th {\n",
       "        text-align: right;\n",
       "    }\n",
       "</style>\n",
       "<table border=\"1\" class=\"dataframe\">\n",
       "  <thead>\n",
       "    <tr style=\"text-align: right;\">\n",
       "      <th></th>\n",
       "      <th>Area_Name</th>\n",
       "      <th>Year</th>\n",
       "      <th>Group_Name</th>\n",
       "      <th>Sub_Group_Name</th>\n",
       "      <th>Cases_Property_Recovered</th>\n",
       "      <th>Cases_Property_Stolen</th>\n",
       "      <th>Value_of_Property_Recovered</th>\n",
       "      <th>Value_of_Property_Stolen</th>\n",
       "      <th>Unknown_cases</th>\n",
       "      <th>Unrecovered_Property</th>\n",
       "    </tr>\n",
       "  </thead>\n",
       "  <tbody>\n",
       "    <tr>\n",
       "      <th>0</th>\n",
       "      <td>Andaman &amp; Nicobar Islands</td>\n",
       "      <td>2001</td>\n",
       "      <td>Burglary - Property</td>\n",
       "      <td>3. Burglary</td>\n",
       "      <td>27</td>\n",
       "      <td>64</td>\n",
       "      <td>755858</td>\n",
       "      <td>1321961</td>\n",
       "      <td>37</td>\n",
       "      <td>566103</td>\n",
       "    </tr>\n",
       "    <tr>\n",
       "      <th>1</th>\n",
       "      <td>Andhra Pradesh</td>\n",
       "      <td>2001</td>\n",
       "      <td>Burglary - Property</td>\n",
       "      <td>3. Burglary</td>\n",
       "      <td>3321</td>\n",
       "      <td>7134</td>\n",
       "      <td>51483437</td>\n",
       "      <td>147019348</td>\n",
       "      <td>3813</td>\n",
       "      <td>95535911</td>\n",
       "    </tr>\n",
       "    <tr>\n",
       "      <th>2</th>\n",
       "      <td>Arunachal Pradesh</td>\n",
       "      <td>2001</td>\n",
       "      <td>Burglary - Property</td>\n",
       "      <td>3. Burglary</td>\n",
       "      <td>66</td>\n",
       "      <td>248</td>\n",
       "      <td>825115</td>\n",
       "      <td>4931904</td>\n",
       "      <td>182</td>\n",
       "      <td>4106789</td>\n",
       "    </tr>\n",
       "    <tr>\n",
       "      <th>3</th>\n",
       "      <td>Assam</td>\n",
       "      <td>2001</td>\n",
       "      <td>Burglary - Property</td>\n",
       "      <td>3. Burglary</td>\n",
       "      <td>539</td>\n",
       "      <td>2423</td>\n",
       "      <td>3722850</td>\n",
       "      <td>21466955</td>\n",
       "      <td>1884</td>\n",
       "      <td>17744105</td>\n",
       "    </tr>\n",
       "    <tr>\n",
       "      <th>4</th>\n",
       "      <td>Bihar</td>\n",
       "      <td>2001</td>\n",
       "      <td>Burglary - Property</td>\n",
       "      <td>3. Burglary</td>\n",
       "      <td>367</td>\n",
       "      <td>3231</td>\n",
       "      <td>2327135</td>\n",
       "      <td>17023937</td>\n",
       "      <td>2864</td>\n",
       "      <td>14696802</td>\n",
       "    </tr>\n",
       "  </tbody>\n",
       "</table>\n",
       "</div>"
      ],
      "text/plain": [
       "                   Area_Name  Year           Group_Name Sub_Group_Name  \\\n",
       "0  Andaman & Nicobar Islands  2001  Burglary - Property    3. Burglary   \n",
       "1             Andhra Pradesh  2001  Burglary - Property    3. Burglary   \n",
       "2          Arunachal Pradesh  2001  Burglary - Property    3. Burglary   \n",
       "3                      Assam  2001  Burglary - Property    3. Burglary   \n",
       "4                      Bihar  2001  Burglary - Property    3. Burglary   \n",
       "\n",
       "   Cases_Property_Recovered  Cases_Property_Stolen  \\\n",
       "0                        27                     64   \n",
       "1                      3321                   7134   \n",
       "2                        66                    248   \n",
       "3                       539                   2423   \n",
       "4                       367                   3231   \n",
       "\n",
       "   Value_of_Property_Recovered  Value_of_Property_Stolen  Unknown_cases  \\\n",
       "0                       755858                   1321961             37   \n",
       "1                     51483437                 147019348           3813   \n",
       "2                       825115                   4931904            182   \n",
       "3                      3722850                  21466955           1884   \n",
       "4                      2327135                  17023937           2864   \n",
       "\n",
       "   Unrecovered_Property  \n",
       "0                566103  \n",
       "1              95535911  \n",
       "2               4106789  \n",
       "3              17744105  \n",
       "4              14696802  "
      ]
     },
     "execution_count": 40,
     "metadata": {},
     "output_type": "execute_result"
    }
   ],
   "source": [
    "df.head()"
   ]
  },
  {
   "cell_type": "code",
   "execution_count": 41,
   "metadata": {},
   "outputs": [],
   "source": [
    "df=df.drop('Area_Name',axis=1)"
   ]
  },
  {
   "cell_type": "code",
   "execution_count": 42,
   "metadata": {},
   "outputs": [
    {
     "data": {
      "text/html": [
       "<div>\n",
       "<style scoped>\n",
       "    .dataframe tbody tr th:only-of-type {\n",
       "        vertical-align: middle;\n",
       "    }\n",
       "\n",
       "    .dataframe tbody tr th {\n",
       "        vertical-align: top;\n",
       "    }\n",
       "\n",
       "    .dataframe thead th {\n",
       "        text-align: right;\n",
       "    }\n",
       "</style>\n",
       "<table border=\"1\" class=\"dataframe\">\n",
       "  <thead>\n",
       "    <tr style=\"text-align: right;\">\n",
       "      <th></th>\n",
       "      <th>Year</th>\n",
       "      <th>Group_Name</th>\n",
       "      <th>Sub_Group_Name</th>\n",
       "      <th>Cases_Property_Recovered</th>\n",
       "      <th>Cases_Property_Stolen</th>\n",
       "      <th>Value_of_Property_Recovered</th>\n",
       "      <th>Value_of_Property_Stolen</th>\n",
       "      <th>Unknown_cases</th>\n",
       "      <th>Unrecovered_Property</th>\n",
       "    </tr>\n",
       "  </thead>\n",
       "  <tbody>\n",
       "    <tr>\n",
       "      <th>0</th>\n",
       "      <td>2001</td>\n",
       "      <td>Burglary - Property</td>\n",
       "      <td>3. Burglary</td>\n",
       "      <td>27</td>\n",
       "      <td>64</td>\n",
       "      <td>755858</td>\n",
       "      <td>1321961</td>\n",
       "      <td>37</td>\n",
       "      <td>566103</td>\n",
       "    </tr>\n",
       "    <tr>\n",
       "      <th>1</th>\n",
       "      <td>2001</td>\n",
       "      <td>Burglary - Property</td>\n",
       "      <td>3. Burglary</td>\n",
       "      <td>3321</td>\n",
       "      <td>7134</td>\n",
       "      <td>51483437</td>\n",
       "      <td>147019348</td>\n",
       "      <td>3813</td>\n",
       "      <td>95535911</td>\n",
       "    </tr>\n",
       "    <tr>\n",
       "      <th>2</th>\n",
       "      <td>2001</td>\n",
       "      <td>Burglary - Property</td>\n",
       "      <td>3. Burglary</td>\n",
       "      <td>66</td>\n",
       "      <td>248</td>\n",
       "      <td>825115</td>\n",
       "      <td>4931904</td>\n",
       "      <td>182</td>\n",
       "      <td>4106789</td>\n",
       "    </tr>\n",
       "    <tr>\n",
       "      <th>3</th>\n",
       "      <td>2001</td>\n",
       "      <td>Burglary - Property</td>\n",
       "      <td>3. Burglary</td>\n",
       "      <td>539</td>\n",
       "      <td>2423</td>\n",
       "      <td>3722850</td>\n",
       "      <td>21466955</td>\n",
       "      <td>1884</td>\n",
       "      <td>17744105</td>\n",
       "    </tr>\n",
       "    <tr>\n",
       "      <th>4</th>\n",
       "      <td>2001</td>\n",
       "      <td>Burglary - Property</td>\n",
       "      <td>3. Burglary</td>\n",
       "      <td>367</td>\n",
       "      <td>3231</td>\n",
       "      <td>2327135</td>\n",
       "      <td>17023937</td>\n",
       "      <td>2864</td>\n",
       "      <td>14696802</td>\n",
       "    </tr>\n",
       "  </tbody>\n",
       "</table>\n",
       "</div>"
      ],
      "text/plain": [
       "   Year           Group_Name Sub_Group_Name  Cases_Property_Recovered  \\\n",
       "0  2001  Burglary - Property    3. Burglary                        27   \n",
       "1  2001  Burglary - Property    3. Burglary                      3321   \n",
       "2  2001  Burglary - Property    3. Burglary                        66   \n",
       "3  2001  Burglary - Property    3. Burglary                       539   \n",
       "4  2001  Burglary - Property    3. Burglary                       367   \n",
       "\n",
       "   Cases_Property_Stolen  Value_of_Property_Recovered  \\\n",
       "0                     64                       755858   \n",
       "1                   7134                     51483437   \n",
       "2                    248                       825115   \n",
       "3                   2423                      3722850   \n",
       "4                   3231                      2327135   \n",
       "\n",
       "   Value_of_Property_Stolen  Unknown_cases  Unrecovered_Property  \n",
       "0                   1321961             37                566103  \n",
       "1                 147019348           3813              95535911  \n",
       "2                   4931904            182               4106789  \n",
       "3                  21466955           1884              17744105  \n",
       "4                  17023937           2864              14696802  "
      ]
     },
     "execution_count": 42,
     "metadata": {},
     "output_type": "execute_result"
    }
   ],
   "source": [
    "df.head()"
   ]
  },
  {
   "cell_type": "code",
   "execution_count": 43,
   "metadata": {},
   "outputs": [
    {
     "data": {
      "text/html": [
       "<div>\n",
       "<style scoped>\n",
       "    .dataframe tbody tr th:only-of-type {\n",
       "        vertical-align: middle;\n",
       "    }\n",
       "\n",
       "    .dataframe tbody tr th {\n",
       "        vertical-align: top;\n",
       "    }\n",
       "\n",
       "    .dataframe thead th {\n",
       "        text-align: right;\n",
       "    }\n",
       "</style>\n",
       "<table border=\"1\" class=\"dataframe\">\n",
       "  <thead>\n",
       "    <tr style=\"text-align: right;\">\n",
       "      <th></th>\n",
       "      <th>Year</th>\n",
       "      <th>Group_Name</th>\n",
       "      <th>Sub_Group_Name</th>\n",
       "      <th>Cases_Property_Recovered</th>\n",
       "      <th>Cases_Property_Stolen</th>\n",
       "      <th>Value_of_Property_Recovered</th>\n",
       "      <th>Value_of_Property_Stolen</th>\n",
       "      <th>Unknown_cases</th>\n",
       "      <th>Unrecovered_Property</th>\n",
       "    </tr>\n",
       "  </thead>\n",
       "  <tbody>\n",
       "    <tr>\n",
       "      <th>0</th>\n",
       "      <td>2001</td>\n",
       "      <td>Burglary - Property</td>\n",
       "      <td>3. Burglary</td>\n",
       "      <td>27</td>\n",
       "      <td>64</td>\n",
       "      <td>755858</td>\n",
       "      <td>1321961</td>\n",
       "      <td>37</td>\n",
       "      <td>566103</td>\n",
       "    </tr>\n",
       "    <tr>\n",
       "      <th>1</th>\n",
       "      <td>2001</td>\n",
       "      <td>Burglary - Property</td>\n",
       "      <td>3. Burglary</td>\n",
       "      <td>3321</td>\n",
       "      <td>7134</td>\n",
       "      <td>51483437</td>\n",
       "      <td>147019348</td>\n",
       "      <td>3813</td>\n",
       "      <td>95535911</td>\n",
       "    </tr>\n",
       "    <tr>\n",
       "      <th>2</th>\n",
       "      <td>2001</td>\n",
       "      <td>Burglary - Property</td>\n",
       "      <td>3. Burglary</td>\n",
       "      <td>66</td>\n",
       "      <td>248</td>\n",
       "      <td>825115</td>\n",
       "      <td>4931904</td>\n",
       "      <td>182</td>\n",
       "      <td>4106789</td>\n",
       "    </tr>\n",
       "    <tr>\n",
       "      <th>3</th>\n",
       "      <td>2001</td>\n",
       "      <td>Burglary - Property</td>\n",
       "      <td>3. Burglary</td>\n",
       "      <td>539</td>\n",
       "      <td>2423</td>\n",
       "      <td>3722850</td>\n",
       "      <td>21466955</td>\n",
       "      <td>1884</td>\n",
       "      <td>17744105</td>\n",
       "    </tr>\n",
       "    <tr>\n",
       "      <th>4</th>\n",
       "      <td>2001</td>\n",
       "      <td>Burglary - Property</td>\n",
       "      <td>3. Burglary</td>\n",
       "      <td>367</td>\n",
       "      <td>3231</td>\n",
       "      <td>2327135</td>\n",
       "      <td>17023937</td>\n",
       "      <td>2864</td>\n",
       "      <td>14696802</td>\n",
       "    </tr>\n",
       "  </tbody>\n",
       "</table>\n",
       "</div>"
      ],
      "text/plain": [
       "   Year           Group_Name Sub_Group_Name  Cases_Property_Recovered  \\\n",
       "0  2001  Burglary - Property    3. Burglary                        27   \n",
       "1  2001  Burglary - Property    3. Burglary                      3321   \n",
       "2  2001  Burglary - Property    3. Burglary                        66   \n",
       "3  2001  Burglary - Property    3. Burglary                       539   \n",
       "4  2001  Burglary - Property    3. Burglary                       367   \n",
       "\n",
       "   Cases_Property_Stolen  Value_of_Property_Recovered  \\\n",
       "0                     64                       755858   \n",
       "1                   7134                     51483437   \n",
       "2                    248                       825115   \n",
       "3                   2423                      3722850   \n",
       "4                   3231                      2327135   \n",
       "\n",
       "   Value_of_Property_Stolen  Unknown_cases  Unrecovered_Property  \n",
       "0                   1321961             37                566103  \n",
       "1                 147019348           3813              95535911  \n",
       "2                   4931904            182               4106789  \n",
       "3                  21466955           1884              17744105  \n",
       "4                  17023937           2864              14696802  "
      ]
     },
     "execution_count": 43,
     "metadata": {},
     "output_type": "execute_result"
    }
   ],
   "source": [
    "df.head()"
   ]
  },
  {
   "cell_type": "code",
   "execution_count": 44,
   "metadata": {},
   "outputs": [
    {
     "data": {
      "text/plain": [
       "array(['3. Burglary', '5. Criminal Breach of Trust', '1. Dacoity',\n",
       "       '6. Other Property', '2. Robbery', '4. Theft',\n",
       "       '7. Total Property Stolen & Recovered'], dtype=object)"
      ]
     },
     "execution_count": 44,
     "metadata": {},
     "output_type": "execute_result"
    }
   ],
   "source": [
    "df['Sub_Group_Name'].unique()"
   ]
  },
  {
   "cell_type": "code",
   "execution_count": 45,
   "metadata": {},
   "outputs": [],
   "source": [
    "df1=pd.get_dummies(df['Sub_Group_Name'],drop_first=True)"
   ]
  },
  {
   "cell_type": "code",
   "execution_count": 46,
   "metadata": {},
   "outputs": [
    {
     "data": {
      "text/html": [
       "<div>\n",
       "<style scoped>\n",
       "    .dataframe tbody tr th:only-of-type {\n",
       "        vertical-align: middle;\n",
       "    }\n",
       "\n",
       "    .dataframe tbody tr th {\n",
       "        vertical-align: top;\n",
       "    }\n",
       "\n",
       "    .dataframe thead th {\n",
       "        text-align: right;\n",
       "    }\n",
       "</style>\n",
       "<table border=\"1\" class=\"dataframe\">\n",
       "  <thead>\n",
       "    <tr style=\"text-align: right;\">\n",
       "      <th></th>\n",
       "      <th>2. Robbery</th>\n",
       "      <th>3. Burglary</th>\n",
       "      <th>4. Theft</th>\n",
       "      <th>5. Criminal Breach of Trust</th>\n",
       "      <th>6. Other Property</th>\n",
       "      <th>7. Total Property Stolen &amp; Recovered</th>\n",
       "    </tr>\n",
       "  </thead>\n",
       "  <tbody>\n",
       "    <tr>\n",
       "      <th>0</th>\n",
       "      <td>0</td>\n",
       "      <td>1</td>\n",
       "      <td>0</td>\n",
       "      <td>0</td>\n",
       "      <td>0</td>\n",
       "      <td>0</td>\n",
       "    </tr>\n",
       "    <tr>\n",
       "      <th>1</th>\n",
       "      <td>0</td>\n",
       "      <td>1</td>\n",
       "      <td>0</td>\n",
       "      <td>0</td>\n",
       "      <td>0</td>\n",
       "      <td>0</td>\n",
       "    </tr>\n",
       "    <tr>\n",
       "      <th>2</th>\n",
       "      <td>0</td>\n",
       "      <td>1</td>\n",
       "      <td>0</td>\n",
       "      <td>0</td>\n",
       "      <td>0</td>\n",
       "      <td>0</td>\n",
       "    </tr>\n",
       "    <tr>\n",
       "      <th>3</th>\n",
       "      <td>0</td>\n",
       "      <td>1</td>\n",
       "      <td>0</td>\n",
       "      <td>0</td>\n",
       "      <td>0</td>\n",
       "      <td>0</td>\n",
       "    </tr>\n",
       "    <tr>\n",
       "      <th>4</th>\n",
       "      <td>0</td>\n",
       "      <td>1</td>\n",
       "      <td>0</td>\n",
       "      <td>0</td>\n",
       "      <td>0</td>\n",
       "      <td>0</td>\n",
       "    </tr>\n",
       "  </tbody>\n",
       "</table>\n",
       "</div>"
      ],
      "text/plain": [
       "   2. Robbery  3. Burglary  4. Theft  5. Criminal Breach of Trust  \\\n",
       "0           0            1         0                            0   \n",
       "1           0            1         0                            0   \n",
       "2           0            1         0                            0   \n",
       "3           0            1         0                            0   \n",
       "4           0            1         0                            0   \n",
       "\n",
       "   6. Other Property  7. Total Property Stolen & Recovered  \n",
       "0                  0                                     0  \n",
       "1                  0                                     0  \n",
       "2                  0                                     0  \n",
       "3                  0                                     0  \n",
       "4                  0                                     0  "
      ]
     },
     "execution_count": 46,
     "metadata": {},
     "output_type": "execute_result"
    }
   ],
   "source": [
    "df1.head()"
   ]
  }
 ],
 "metadata": {
  "kernelspec": {
   "display_name": "Python 3",
   "language": "python",
   "name": "python3"
  },
  "language_info": {
   "codemirror_mode": {
    "name": "ipython",
    "version": 3
   },
   "file_extension": ".py",
   "mimetype": "text/x-python",
   "name": "python",
   "nbconvert_exporter": "python",
   "pygments_lexer": "ipython3",
   "version": "3.7.6"
  }
 },
 "nbformat": 4,
 "nbformat_minor": 4
}
